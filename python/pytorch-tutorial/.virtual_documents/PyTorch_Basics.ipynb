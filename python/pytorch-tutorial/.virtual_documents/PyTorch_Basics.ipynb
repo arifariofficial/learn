import torch
print("Pytorch version", torch.__version__)
print("Is CUDE available?", torch.cuda.is_available())


tensor = torch.tensor([1, 2, 3, 4, 5])

print("Tensor", tensor)
print("Shape: ", tensor.shape)
print("Data type: ", tensor.dtype) 


# Create two tensors
tensor_a = torch.tensor([1, 2 , 3])
tensor_b = torch.tensor([4, 5, 6])

# Perform basic operations
addition = tensor_a + tensor_b
subtraction = tensor_a - tensor_b
multiplication = tensor_a * tensor_b
division = tensor_a / tensor_b

# Print results
print("Addition: ", addition)
print("Subtraction: ", subtraction)
print("Multiplication: ", multiplication)
print("Division: ", division)



