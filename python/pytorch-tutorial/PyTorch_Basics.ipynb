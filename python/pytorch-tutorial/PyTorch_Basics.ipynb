{
 "cells": [
  {
   "cell_type": "code",
   "execution_count": 2,
   "id": "a145a778-dde7-4b6e-bc0c-3e79470b05cf",
   "metadata": {},
   "outputs": [
    {
     "name": "stdout",
     "output_type": "stream",
     "text": [
      "Pytorch version 2.5.1\n",
      "Is CUDE available? False\n"
     ]
    }
   ],
   "source": [
    "import torch\n",
    "print(\"Pytorch version\", torch.__version__)\n",
    "print(\"Is CUDE available?\", torch.cuda.is_available())"
   ]
  },
  {
   "cell_type": "code",
   "execution_count": 2,
   "id": "c8709152-4af3-4732-9fd3-657621be3c38",
   "metadata": {},
   "outputs": [
    {
     "name": "stdout",
     "output_type": "stream",
     "text": [
      "Tensor tensor([1, 2, 3, 4, 5])\n",
      "Shape:  torch.Size([5])\n",
      "Data type:  torch.int64\n"
     ]
    }
   ],
   "source": [
    "tensor = torch.tensor([1, 2, 3, 4, 5])\n",
    "\n",
    "print(\"Tensor\", tensor)\n",
    "print(\"Shape: \", tensor.shape)\n",
    "print(\"Data type: \", tensor.dtype) "
   ]
  },
  {
   "cell_type": "code",
   "execution_count": 5,
   "id": "3885cd18-88d3-4bb2-9c44-360f9bfe670f",
   "metadata": {},
   "outputs": [
    {
     "name": "stdout",
     "output_type": "stream",
     "text": [
      "Addition:  tensor([5, 7, 9])\n",
      "Subtraction:  tensor([-3, -3, -3])\n",
      "Multiplication:  tensor([ 4, 10, 18])\n",
      "Division:  tensor([0.2500, 0.4000, 0.5000])\n"
     ]
    }
   ],
   "source": [
    "# Create two tensors\n",
    "tensor_a = torch.tensor([1, 2 , 3])\n",
    "tensor_b = torch.tensor([4, 5, 6])\n",
    "\n",
    "# Perform basic operations\n",
    "addition = tensor_a + tensor_b\n",
    "subtraction = tensor_a - tensor_b\n",
    "multiplication = tensor_a * tensor_b\n",
    "division = tensor_a / tensor_b\n",
    "\n",
    "# Print results\n",
    "print(\"Addition: \", addition)\n",
    "print(\"Subtraction: \", subtraction)\n",
    "print(\"Multiplication: \", multiplication)\n",
    "print(\"Division: \", division)"
   ]
  },
  {
   "cell_type": "code",
   "execution_count": null,
   "id": "7a66c4cb-fcee-4cf4-981e-9203860e29d3",
   "metadata": {},
   "outputs": [],
   "source": []
  }
 ],
 "metadata": {
  "kernelspec": {
   "display_name": "Python 3 (ipykernel)",
   "language": "python",
   "name": "python3"
  },
  "language_info": {
   "codemirror_mode": {
    "name": "ipython",
    "version": 3
   },
   "file_extension": ".py",
   "mimetype": "text/x-python",
   "name": "python",
   "nbconvert_exporter": "python",
   "pygments_lexer": "ipython3",
   "version": "3.12.1"
  }
 },
 "nbformat": 4,
 "nbformat_minor": 5
}
